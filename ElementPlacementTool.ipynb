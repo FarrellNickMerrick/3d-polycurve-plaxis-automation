{
 "cells": [
  {
   "cell_type": "code",
   "execution_count": 0,
   "id": "bf237a5a",
   "metadata": {},
   "outputs": [],
   "source": [
    "import tkinter as tk\n",
    "from tkinter import simpledialog, messagebox, filedialog\n",
    "import csv\n",
    "try:\n",
    "   from plxscripting.easy import *\n",
    "except ImportError:\n",
    "    print(\"Installing required module: plxscripting\")\n",
    "    import os\n",
    "    os.system('python -m pip install plxscripting')\n",
    "    from plxscripting.easy import *\n",
    "    \n",
    "s_i, g_i = new_server('localhost', 10000, password='!x@V#eZZ~tSVE?Y4')\n",
    "\n",
    "d  = simpledialog.askfloat(\"Row Diameter Input\",\"Please enter the diameter for EVERY row (ft):\", minvalue=0.0)  # diameter for EVERY row (ft)\n",
    "if d is None:\n",
    "   quit()\n",
    "z  = simpledialog.askfloat(\"Elevation Input\",\"Please enter the top of element elevation (ft):\")  # Top of element Elevation                  \n",
    "if z is None:\n",
    "   quit()\n",
    "axis1, axis2 = (1, 0, 0), (0, 1, 0)\n",
    "\n",
    "root = tk.TK()\n",
    "root.withdraw()\n",
    "\n",
    "file_path = filedialog.askopenfilename()\n",
    "with open(file_path, newline='') as fh:\n",
    "    for i, row in enumerate(csv.DictReader(fh), 1):\n",
    "        cx = float(row['X'])\n",
    "        cy = float(row['Y'])\n",
    "        p0 = (cx, cy, z)\n",
    "\n",
    "        poly = g_i.polycurve(\n",
    "                 p0, axis1, axis2,\n",
    "                 \"Arc\", 0, 180, d/2,\n",
    "                 \"Arc\", 0, 180, d/2)[0]\n",
    "\n",
    "        g_i.set(poly.Offset2, -d/2)          # Offset2 = –diameter/2\n",
    "        surf_list = g_i.surface(poly)        # build surface\n",
    "if surf_list:                                # skip if PLAXIS returns []\n",
    "    surf = surf_list[0]"
   ]
  }
 ],
 "metadata": {
  "kernelspec": {
   "display_name": "base",
   "language": "python",
   "name": "python3"
  },
  "language_info": {
   "codemirror_mode": {
    "name": "ipython",
    "version": 3
   },
   "file_extension": ".py",
   "mimetype": "text/x-python",
   "name": "python",
   "nbconvert_exporter": "python",
   "pygments_lexer": "ipython3",
   "version": "3.10.9"
  }
 },
 "nbformat": 4,
 "nbformat_minor": 5
}
