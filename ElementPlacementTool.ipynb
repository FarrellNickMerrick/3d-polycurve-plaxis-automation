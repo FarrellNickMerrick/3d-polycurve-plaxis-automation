{
 "cells": [
  {
   "cell_type": "code",
   "execution_count": 1,
   "id": "bf237a5a",
   "metadata": {},
   "outputs": [
    {
     "name": "stdout",
     "output_type": "stream",
     "text": [
      "Installing required module: plxscripting\n"
     ]
    },
    {
     "ename": "ModuleNotFoundError",
     "evalue": "No module named 'plxscripting'",
     "output_type": "error",
     "traceback": [
      "\u001b[1;31m---------------------------------------------------------------------------\u001b[0m",
      "\u001b[1;31mModuleNotFoundError\u001b[0m                       Traceback (most recent call last)",
      "Cell \u001b[1;32mIn[1], line 5\u001b[0m\n\u001b[0;32m      4\u001b[0m \u001b[38;5;28;01mtry\u001b[39;00m:\n\u001b[1;32m----> 5\u001b[0m    \u001b[38;5;28;01mfrom\u001b[39;00m \u001b[38;5;21;01mplxscripting\u001b[39;00m\u001b[38;5;21;01m.\u001b[39;00m\u001b[38;5;21;01measy\u001b[39;00m \u001b[38;5;28;01mimport\u001b[39;00m \u001b[38;5;241m*\u001b[39m\n\u001b[0;32m      6\u001b[0m \u001b[38;5;28;01mexcept\u001b[39;00m \u001b[38;5;167;01mImportError\u001b[39;00m:\n",
      "\u001b[1;31mModuleNotFoundError\u001b[0m: No module named 'plxscripting'",
      "\nDuring handling of the above exception, another exception occurred:\n",
      "\u001b[1;31mModuleNotFoundError\u001b[0m                       Traceback (most recent call last)",
      "Cell \u001b[1;32mIn[1], line 10\u001b[0m\n\u001b[0;32m      8\u001b[0m     \u001b[38;5;28;01mimport\u001b[39;00m \u001b[38;5;21;01mos\u001b[39;00m\n\u001b[0;32m      9\u001b[0m     os\u001b[38;5;241m.\u001b[39msystem(\u001b[38;5;124m'\u001b[39m\u001b[38;5;124mpython -m pip install plxscripting\u001b[39m\u001b[38;5;124m'\u001b[39m)\n\u001b[1;32m---> 10\u001b[0m     \u001b[38;5;28;01mfrom\u001b[39;00m \u001b[38;5;21;01mplxscripting\u001b[39;00m\u001b[38;5;21;01m.\u001b[39;00m\u001b[38;5;21;01measy\u001b[39;00m \u001b[38;5;28;01mimport\u001b[39;00m \u001b[38;5;241m*\u001b[39m\n\u001b[0;32m     12\u001b[0m s_i, g_i \u001b[38;5;241m=\u001b[39m new_server(\u001b[38;5;124m'\u001b[39m\u001b[38;5;124mlocalhost\u001b[39m\u001b[38;5;124m'\u001b[39m, \u001b[38;5;241m10000\u001b[39m, password\u001b[38;5;241m=\u001b[39m\u001b[38;5;124m'\u001b[39m\u001b[38;5;124m!x@V#eZZ~tSVE?Y4\u001b[39m\u001b[38;5;124m'\u001b[39m)\n\u001b[0;32m     14\u001b[0m d  \u001b[38;5;241m=\u001b[39m simpledialog\u001b[38;5;241m.\u001b[39maskfloat(\u001b[38;5;124m\"\u001b[39m\u001b[38;5;124mRow Diameter Input\u001b[39m\u001b[38;5;124m\"\u001b[39m,\u001b[38;5;124m\"\u001b[39m\u001b[38;5;124mPlease enter the diameter for EVERY row (ft):\u001b[39m\u001b[38;5;124m\"\u001b[39m, minvalue\u001b[38;5;241m=\u001b[39m\u001b[38;5;241m0.0\u001b[39m)  \u001b[38;5;66;03m# diameter for EVERY row (ft)\u001b[39;00m\n",
      "\u001b[1;31mModuleNotFoundError\u001b[0m: No module named 'plxscripting'"
     ]
    }
   ],
   "source": [
    "import tkinter as tk\n",
    "from tkinter import simpledialog, messagebox, filedialog\n",
    "import csv\n",
    "try:\n",
    "   from plxscripting.easy import *\n",
    "except ImportError:\n",
    "    print(\"Installing required module: plxscripting\")\n",
    "    import os\n",
    "    os.system('python -m pip install plxscripting')\n",
    "    from plxscripting.easy import *\n",
    "    \n",
    "s_i, g_i = new_server('localhost', 10000, password='!x@V#eZZ~tSVE?Y4')\n",
    "\n",
    "d  = simpledialog.askfloat(\"Row Diameter Input\",\"Please enter the diameter for EVERY row (ft):\", minvalue=0.0)  # diameter for EVERY row (ft)\n",
    "if d is None:\n",
    "   quit()\n",
    "z  = simpledialog.askfloat(\"Elevation Input\",\"Please enter the top of element elevation (ft):\")  # Top of element Elevation                  \n",
    "if z is None:\n",
    "   quit()\n",
    "axis1, axis2 = (1, 0, 0), (0, 1, 0)\n",
    "\n",
    "root = tk.TK()\n",
    "root.withdraw()\n",
    "\n",
    "file_path = filedialog.askopenfilename()\n",
    "with open(file_path, newline='') as fh:\n",
    "    for i, row in enumerate(csv.DictReader(fh), 1):\n",
    "        cx = float(row['X'])\n",
    "        cy = float(row['Y'])\n",
    "        p0 = (cx, cy, z)\n",
    "\n",
    "        poly = g_i.polycurve(\n",
    "                 p0, axis1, axis2,\n",
    "                 \"Arc\", 0, 180, d/2,\n",
    "                 \"Arc\", 0, 180, d/2)[0]\n",
    "\n",
    "        g_i.set(poly.Offset2, -d/2)          # Offset2 = –diameter/2\n",
    "        surf_list = g_i.surface(poly)        # build surface\n",
    "if surf_list:                                # skip if PLAXIS returns []\n",
    "    surf = surf_list[0]"
   ]
  }
 ],
 "metadata": {
  "kernelspec": {
   "display_name": "base",
   "language": "python",
   "name": "python3"
  },
  "language_info": {
   "codemirror_mode": {
    "name": "ipython",
    "version": 3
   },
   "file_extension": ".py",
   "mimetype": "text/x-python",
   "name": "python",
   "nbconvert_exporter": "python",
   "pygments_lexer": "ipython3",
   "version": "3.10.9"
  }
 },
 "nbformat": 4,
 "nbformat_minor": 5
}
